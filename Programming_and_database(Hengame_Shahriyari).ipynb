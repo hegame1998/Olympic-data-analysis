{
  "nbformat": 4,
  "nbformat_minor": 0,
  "metadata": {
    "colab": {
      "provenance": [],
      "collapsed_sections": [
        "Gaq6YrEN7DWb"
      ],
      "authorship_tag": "ABX9TyPj/8kEfp08ji1EXupqrray",
      "include_colab_link": true
    },
    "kernelspec": {
      "name": "python3",
      "display_name": "Python 3"
    },
    "language_info": {
      "name": "python"
    }
  },
  "cells": [
    {
      "cell_type": "markdown",
      "metadata": {
        "id": "view-in-github",
        "colab_type": "text"
      },
      "source": [
        "<a href=\"https://colab.research.google.com/github/hegame1998/Olympic-data-analysis/blob/main/Programming_and_database(Hengame_Shahriyari).ipynb\" target=\"_parent\"><img src=\"https://colab.research.google.com/assets/colab-badge.svg\" alt=\"Open In Colab\"/></a>"
      ]
    },
    {
      "cell_type": "markdown",
      "source": [
        "# **Importing the modules & libraries**"
      ],
      "metadata": {
        "id": "CoKOeNzbt0vn"
      }
    },
    {
      "cell_type": "code",
      "execution_count": 3,
      "metadata": {
        "id": "Eck9Mg4MgzVR"
      },
      "outputs": [],
      "source": [
        "# importing required libraries\n",
        "import pandas as pd\n",
        "import numpy as np\n",
        "import seaborn as sns\n",
        "import matplotlib.pyplot as plt\n",
        "import plotly.graph_objects as go\n",
        "import streamlit as st"
      ]
    },
    {
      "cell_type": "markdown",
      "source": [
        "# **Data Importing**"
      ],
      "metadata": {
        "id": "GsIyRtiYtkIE"
      }
    },
    {
      "cell_type": "markdown",
      "source": [
        "I called the data from the main source (GitHub) and put them in a specific variable to use it in future analysis."
      ],
      "metadata": {
        "id": "O6h71lX8bzx7"
      }
    },
    {
      "cell_type": "code",
      "source": [
        "# creating the athletes dataset\n",
        "athlete_df = pd.read_csv('https://raw.githubusercontent.com/MaH1996SdN/programming_project/master/athlete_events.csv')\n",
        "\n",
        "# creating regions dataset\n",
        "regions_df = pd.read_csv('https://raw.githubusercontent.com/MaH1996SdN/programming_project/master/noc_regions.csv')"
      ],
      "metadata": {
        "id": "N5svBez8tixC"
      },
      "execution_count": null,
      "outputs": []
    },
    {
      "cell_type": "markdown",
      "source": [
        "# **Information about dataset**\n"
      ],
      "metadata": {
        "id": "B8_5F-Xm3WDU"
      }
    },
    {
      "cell_type": "code",
      "source": [
        "# returning athletes dataset values\n",
        "athlete_df"
      ],
      "metadata": {
        "id": "BAfH5wex3YBT"
      },
      "execution_count": null,
      "outputs": []
    },
    {
      "cell_type": "markdown",
      "source": [
        "In previous code, at the end of dataset we can see the size of data (number of rows and columns) but we can see it with another code :"
      ],
      "metadata": {
        "id": "cFp8FNwx5O2w"
      }
    },
    {
      "cell_type": "code",
      "source": [
        "# returning the number of rows and columns in athletes dataset\n",
        "athlete_df.shape"
      ],
      "metadata": {
        "id": "6-cFRlzq5N37"
      },
      "execution_count": null,
      "outputs": []
    },
    {
      "cell_type": "markdown",
      "source": [
        "This method is used to retrieve the first few rows of the dataset. <br>It returns 5 rows by default, but we can call for specific rows. <br>We call 8 rows here, so it will return the first 8 rows of the dataset."
      ],
      "metadata": {
        "id": "nb2MXdN2EYwh"
      }
    },
    {
      "cell_type": "code",
      "source": [
        "# returning first n rows of athletes dataset\n",
        "athlete_df.head(8)"
      ],
      "metadata": {
        "id": "jCXd07RrD4Z5"
      },
      "execution_count": null,
      "outputs": []
    },
    {
      "cell_type": "markdown",
      "source": [
        "This code same as last code but print the last rows of dataset"
      ],
      "metadata": {
        "id": "K07K1_NpOLwQ"
      }
    },
    {
      "cell_type": "code",
      "source": [
        "# returning last n rows of athletes dataset\n",
        "athlete_df.tail(3)"
      ],
      "metadata": {
        "id": "y4JoKIT0OGE_"
      },
      "execution_count": null,
      "outputs": []
    },
    {
      "cell_type": "markdown",
      "source": [
        "This method provides a concise summary of the dataset's information, including the number of non-null entries and the data types of each column.<br>This is useful for understanding the data types in dataset and identifying any missing values so we can clean the data if there is any empty cell."
      ],
      "metadata": {
        "id": "_PyB9EBRPYLW"
      }
    },
    {
      "cell_type": "code",
      "source": [
        "# getting information about each column counts and datatype in athlete dataframe\n",
        "athlete_df.info()"
      ],
      "metadata": {
        "id": "48qO0mjORGlO"
      },
      "execution_count": null,
      "outputs": []
    },
    {
      "cell_type": "markdown",
      "source": [
        "This method is used to generate descriptive statistics of the data. <br>For a dataset, it provides a summary of the central tendency, dispersion, and shape of the distribution of the data. For each numeric column in the dataset, it calculates statistics such as count, mean, standard deviation, minimum, 25th percentile, median (50th percentile), 75th percentile, and maximum."
      ],
      "metadata": {
        "id": "uH5OYGz2MsI5"
      }
    },
    {
      "cell_type": "code",
      "source": [
        "# getting information like min,max and mean about numeric columns in athlete dataframe\n",
        "athlete_df.describe()"
      ],
      "metadata": {
        "id": "QsxVIeIjNypK"
      },
      "execution_count": null,
      "outputs": []
    },
    {
      "cell_type": "markdown",
      "source": [
        "Repeat previous code for this dataset\n"
      ],
      "metadata": {
        "id": "CZMh-YklyQiF"
      }
    },
    {
      "cell_type": "code",
      "source": [
        "# returning regions dataset values\n",
        "regions_df"
      ],
      "metadata": {
        "id": "5d2IFLJjwZAp"
      },
      "execution_count": null,
      "outputs": []
    },
    {
      "cell_type": "code",
      "source": [
        "# returning the number of rows and columns in athletes dataset\n",
        "regions_df.shape"
      ],
      "metadata": {
        "id": "zzC3aWDgwcVi"
      },
      "execution_count": null,
      "outputs": []
    },
    {
      "cell_type": "code",
      "source": [
        "# getting information about each column counts and datatype in region dataframe\n",
        "regions_df.info()"
      ],
      "metadata": {
        "id": "3pL_nTkyyNy5"
      },
      "execution_count": null,
      "outputs": []
    },
    {
      "cell_type": "code",
      "source": [
        "# getting information like min,max and mean about numeric columns in region dataframe\n",
        "regions_df.describe()"
      ],
      "metadata": {
        "id": "PzxyhxrlynOW"
      },
      "execution_count": null,
      "outputs": []
    },
    {
      "cell_type": "markdown",
      "source": [
        "# **Drop & Merge dataset**"
      ],
      "metadata": {
        "id": "Gaq6YrEN7DWb"
      }
    },
    {
      "cell_type": "markdown",
      "source": [
        "Remove a column named 'notes'. <br> The **axis=1** parameter specifies that you're dropping a column but if it is 0, refers to row, and **inplace=True** means that the change will be applied directly to the original dataset instead of creating a new one."
      ],
      "metadata": {
        "id": "N_fB2I51JAdn"
      }
    },
    {
      "cell_type": "code",
      "source": [
        "# dropping extra column: note in regions dataframe\n",
        "regions_df.drop('notes', axis=1, inplace=True)\n",
        "\n",
        "regions_df.head(4)"
      ],
      "metadata": {
        "id": "77kyRkmJECBd"
      },
      "execution_count": null,
      "outputs": []
    },
    {
      "cell_type": "markdown",
      "source": [
        "We can now join the two dataframes using as key the NOC column with the Pandas **'Merge'** function"
      ],
      "metadata": {
        "id": "sR9Tv7LVCUoD"
      }
    },
    {
      "cell_type": "code",
      "source": [
        "# merging 2 datasets in order to find countries\n",
        "athlete_df=pd.merge(athlete_df, regions_df, on='NOC', how='left')\n",
        "\n",
        "athlete_df.head(4)"
      ],
      "metadata": {
        "id": "qaLsb38c789u"
      },
      "execution_count": null,
      "outputs": []
    },
    {
      "cell_type": "markdown",
      "source": [
        "Change the tag of region column to country"
      ],
      "metadata": {
        "id": "YzRhO2BXOhxA"
      }
    },
    {
      "cell_type": "code",
      "source": [
        "# renaming region to \"Country\" for better understanding\n",
        "athlete_df.rename(columns = {'region':'Country'}, inplace = True)\n",
        "\n",
        "athlete_df.head(4)"
      ],
      "metadata": {
        "id": "LX8ql20HNC6n"
      },
      "execution_count": null,
      "outputs": []
    },
    {
      "cell_type": "markdown",
      "source": [
        "Now I want to delete the columns that are extra in the dataset and we do not need them for future analyse."
      ],
      "metadata": {
        "id": "Zm8p0kLdzQhy"
      }
    },
    {
      "cell_type": "code",
      "source": [
        "# dropping extra column: ID, Games, City, Team , Noc in athlete dataframe\n",
        "athlete_df.drop(['ID','Team', 'NOC', 'Games', 'City'], axis=1, inplace=True)\n",
        "\n",
        "athlete_df.head(4)"
      ],
      "metadata": {
        "id": "jGEscd72Qsmu"
      },
      "execution_count": null,
      "outputs": []
    },
    {
      "cell_type": "markdown",
      "source": [
        "# **Cleaning dataset**"
      ],
      "metadata": {
        "id": "a8FFk4CDorQ0"
      }
    },
    {
      "cell_type": "markdown",
      "source": [
        "Cleaning the dataset before analysis is a fundamental step to ensuring the quality, reliability, and integrity of results. It allows for a perfect analysis and helps in drawing accurate and meaningful conclusions.\n"
      ],
      "metadata": {
        "id": "po28JrAMo6c6"
      }
    },
    {
      "cell_type": "markdown",
      "source": [
        "### **Calculate null cells**"
      ],
      "metadata": {
        "id": "WyCmC6xJs20y"
      }
    },
    {
      "cell_type": "markdown",
      "source": [
        "I calculate the number of null cells."
      ],
      "metadata": {
        "id": "gyojLJ8Rq74f"
      }
    },
    {
      "cell_type": "code",
      "source": [
        "# counting the number of null values of dataset\n",
        "print(athlete_df.isnull().sum())"
      ],
      "metadata": {
        "id": "9ezTAZ5boqSp"
      },
      "execution_count": null,
      "outputs": []
    },
    {
      "cell_type": "markdown",
      "source": [
        "We can see that Age, Height, Weight, Medal and Country have a lot of missing values. <br>\n",
        "Always we should start with the least amount of value, but here Medals have NaN in about 231333 rows and this can be explained since not all participating athletes would win medals. <br>\n",
        "Let's replace these missing values with 'non-Medal'."
      ],
      "metadata": {
        "id": "wsiJTmHXtU0G"
      }
    },
    {
      "cell_type": "markdown",
      "source": [
        "### **Cleaning base on *'Medal'***"
      ],
      "metadata": {
        "id": "XDP_0IfttQr7"
      }
    },
    {
      "cell_type": "code",
      "source": [
        "# counting the number of null values of Medal column\n",
        "athlete_df['Medal'].isnull().sum()"
      ],
      "metadata": {
        "id": "GkiXzYFXvZ7J"
      },
      "execution_count": null,
      "outputs": []
    },
    {
      "cell_type": "code",
      "source": [
        "# counting the number of non-null values of Medal column\n",
        "athlete_df['Medal'].notnull().sum()"
      ],
      "metadata": {
        "id": "XXMNaqrlvck0"
      },
      "execution_count": null,
      "outputs": []
    },
    {
      "cell_type": "code",
      "source": [
        "# filling null values with \"non-Medal\"\n",
        "athlete_df['Medal'].fillna('non-Medal', inplace = True)"
      ],
      "metadata": {
        "id": "H6-gNgd1u_pY"
      },
      "execution_count": null,
      "outputs": []
    },
    {
      "cell_type": "code",
      "source": [
        "# counting the number of null values of Medal column\n",
        "athlete_df['Medal'].isnull().sum()"
      ],
      "metadata": {
        "id": "ltVwgDzswEvZ"
      },
      "execution_count": null,
      "outputs": []
    },
    {
      "cell_type": "code",
      "source": [
        "# Print values of Medal\n",
        "print(athlete_df['Medal'])"
      ],
      "metadata": {
        "id": "k_XWigYoxKBR"
      },
      "execution_count": null,
      "outputs": []
    },
    {
      "cell_type": "markdown",
      "source": [
        "Now I want to see the different type of medal that is in the dataset"
      ],
      "metadata": {
        "id": "rKxC0JHGofv4"
      }
    },
    {
      "cell_type": "code",
      "source": [
        "# Print unique values of Medal\n",
        "athlete_df[\"Medal\"].unique()"
      ],
      "metadata": {
        "id": "oGBKnbrUoOXu"
      },
      "execution_count": null,
      "outputs": []
    },
    {
      "cell_type": "markdown",
      "source": [
        "Now I want to change the type of medal from **string** to **integer** so I will change them base on this : <br>\n",
        "**Gold=1** , **Silver=2** , **Bronze=3** , **non-Medal=0**"
      ],
      "metadata": {
        "id": "rs6WkKJykZ-f"
      }
    },
    {
      "cell_type": "code",
      "source": [
        "# replacing string values of Medals with integer values\n",
        "athlete_df.Medal.replace({'Gold':1, 'Silver':2, 'Bronze':3, 'non-Medal':0}, inplace=True)"
      ],
      "metadata": {
        "id": "eR_KzhGUk4ma"
      },
      "execution_count": null,
      "outputs": []
    },
    {
      "cell_type": "code",
      "source": [
        "# Print values of Medal\n",
        "print(athlete_df['Medal'])"
      ],
      "metadata": {
        "id": "YOFKvNbclcyZ"
      },
      "execution_count": null,
      "outputs": []
    },
    {
      "cell_type": "code",
      "source": [
        "# Print unique values of Medal\n",
        "athlete_df[\"Medal\"].unique()"
      ],
      "metadata": {
        "id": "Y8ktPnvb06Hu"
      },
      "execution_count": null,
      "outputs": []
    },
    {
      "cell_type": "code",
      "source": [
        "# getting information about each column counts and datatype in athlete dataframe\n",
        "athlete_df.info()"
      ],
      "metadata": {
        "id": "9DP3I8fXnUK8"
      },
      "execution_count": null,
      "outputs": []
    },
    {
      "cell_type": "markdown",
      "source": [
        "Now I should continue with other values. <br> First, I should clean the value that is less than others, so cleaning should be based on this list:\n",
        "\n",
        "1.   Country\n",
        "2.   Age\n",
        "3.   Height\n",
        "4. Weight      \n",
        "\n"
      ],
      "metadata": {
        "id": "F1YAuMfwwK3c"
      }
    },
    {
      "cell_type": "markdown",
      "source": [
        "### **Cleaning base on *'Country'***"
      ],
      "metadata": {
        "id": "AXYqDB7exniJ"
      }
    },
    {
      "cell_type": "code",
      "source": [
        "# counting the number of null values of Country column\n",
        "athlete_df['Country'].isnull().sum()"
      ],
      "metadata": {
        "id": "wbOL_kNxxJ8H"
      },
      "execution_count": null,
      "outputs": []
    },
    {
      "cell_type": "code",
      "source": [
        "# counting the number of non-null values of Country column\n",
        "athlete_df['Country'].notnull().sum()"
      ],
      "metadata": {
        "id": "zKLbnD9pzwwO"
      },
      "execution_count": null,
      "outputs": []
    },
    {
      "cell_type": "code",
      "source": [
        "# filling null values with \"Unknown-Country\"\n",
        "athlete_df['Country'].fillna('Unknown-Country', inplace = True)"
      ],
      "metadata": {
        "id": "jRpclEBez955"
      },
      "execution_count": null,
      "outputs": []
    },
    {
      "cell_type": "code",
      "source": [
        "# counting the number of null values of Country column\n",
        "athlete_df['Country'].isnull().sum()"
      ],
      "metadata": {
        "id": "8JzBN_HF0NAz"
      },
      "execution_count": null,
      "outputs": []
    },
    {
      "cell_type": "markdown",
      "source": [
        "Now I want to see the different type of country that is in the dataset"
      ],
      "metadata": {
        "id": "o7kcjrxi0Y4F"
      }
    },
    {
      "cell_type": "code",
      "source": [
        "# Print unique values of Country\n",
        "athlete_df[\"Country\"].unique()"
      ],
      "metadata": {
        "id": "rFHUvMJw0xl2"
      },
      "execution_count": null,
      "outputs": []
    },
    {
      "cell_type": "code",
      "source": [
        "# getting information about each column counts and datatype in athlete dataframe\n",
        "athlete_df.info()"
      ],
      "metadata": {
        "id": "-zAmJDaH9FC3"
      },
      "execution_count": null,
      "outputs": []
    },
    {
      "cell_type": "markdown",
      "source": [
        "### **Cleaning base on *'Age'***"
      ],
      "metadata": {
        "id": "XQ-3ybW570sH"
      }
    },
    {
      "cell_type": "markdown",
      "source": [
        "First of all I print the histogram of Age, I use the **hist()** function that is provided by pandas. <br> I show label for X and Y and show a label for histogram. <br> When I clean the null cells of Age, I will print this histogram again."
      ],
      "metadata": {
        "id": "PsAoQ20SIGbZ"
      }
    },
    {
      "cell_type": "code",
      "source": [
        "#Histogram of Age\n",
        "athlete_df['Age'].hist()\n",
        "plt.xlabel('Age')\n",
        "plt.ylabel('Frequency')\n",
        "plt.title('Histogram of Athlete Ages')\n",
        "plt.show()"
      ],
      "metadata": {
        "id": "huvHAUkrK9L_"
      },
      "execution_count": null,
      "outputs": []
    },
    {
      "cell_type": "code",
      "source": [
        "# counting the number of null values of Age column\n",
        "athlete_df['Age'].isnull().sum()"
      ],
      "metadata": {
        "id": "78dBgUgN7y9V"
      },
      "execution_count": null,
      "outputs": []
    },
    {
      "cell_type": "markdown",
      "source": [
        "The number of null value of age is around 9500 and I fill it with median of age so first I calculate median of age:"
      ],
      "metadata": {
        "id": "dxjOmFPpFOvj"
      }
    },
    {
      "cell_type": "code",
      "source": [
        "# mean value of Age column\n",
        "athlete_df['Age'].mean()"
      ],
      "metadata": {
        "id": "Dr-MDEZJ-pnY"
      },
      "execution_count": null,
      "outputs": []
    },
    {
      "cell_type": "markdown",
      "source": [
        "then fill the **nan** value with median of Age."
      ],
      "metadata": {
        "id": "7_WV7uIaG4rU"
      }
    },
    {
      "cell_type": "code",
      "source": [
        "# filling null values with median of age\n",
        "athlete_df['Age'].fillna(25, inplace = True)"
      ],
      "metadata": {
        "id": "zRLXeOzr-8ht"
      },
      "execution_count": null,
      "outputs": []
    },
    {
      "cell_type": "code",
      "source": [
        "# counting the number of null values of Age column after cleaning\n",
        "athlete_df['Age'].isnull().sum()"
      ],
      "metadata": {
        "id": "Evye9hNg_DlW"
      },
      "execution_count": null,
      "outputs": []
    },
    {
      "cell_type": "code",
      "source": [
        "#Histogram of Age\n",
        "athlete_df['Age'].hist()\n",
        "plt.xlabel('Age')\n",
        "plt.ylabel('Frequency')\n",
        "plt.title('Histogram of Athlete Ages')\n",
        "plt.show()"
      ],
      "metadata": {
        "id": "jgWNzLY_Ifyw"
      },
      "execution_count": null,
      "outputs": []
    },
    {
      "cell_type": "markdown",
      "source": [
        "### **Cleaning base on *'Height'***"
      ],
      "metadata": {
        "id": "cRhnsMOR9USJ"
      }
    },
    {
      "cell_type": "markdown",
      "source": [
        "Here I will repeat the levels of Age for **Height**."
      ],
      "metadata": {
        "id": "a-BCQ7QjLjj-"
      }
    },
    {
      "cell_type": "code",
      "source": [
        "#Histogram of Height\n",
        "athlete_df['Height'].hist()\n",
        "plt.xlabel('Height')\n",
        "plt.ylabel('Frequency')\n",
        "plt.title('Histogram of Athlete Height')\n",
        "plt.show()"
      ],
      "metadata": {
        "id": "0jk5x8rUK63G"
      },
      "execution_count": null,
      "outputs": []
    },
    {
      "cell_type": "code",
      "source": [
        "# counting the number of null values of Height column\n",
        "athlete_df['Height'].isnull().sum()"
      ],
      "metadata": {
        "id": "qRl82mf-9ci4"
      },
      "execution_count": null,
      "outputs": []
    },
    {
      "cell_type": "code",
      "source": [
        "# mean value of Height column\n",
        "athlete_df['Height'].mean()"
      ],
      "metadata": {
        "id": "rzG9AI4oKRCC"
      },
      "execution_count": null,
      "outputs": []
    },
    {
      "cell_type": "code",
      "source": [
        "# filling null values of Height column with median value\n",
        "athlete_df['Height'].fillna(athlete_df['Height'].mean(), inplace=True)"
      ],
      "metadata": {
        "id": "QfzwypYSKZFF"
      },
      "execution_count": null,
      "outputs": []
    },
    {
      "cell_type": "code",
      "source": [
        "# counting the number of null values of Height column after cleaning\n",
        "athlete_df['Height'].isnull().sum()"
      ],
      "metadata": {
        "id": "XwkHWse9Kgzg"
      },
      "execution_count": null,
      "outputs": []
    },
    {
      "cell_type": "code",
      "source": [
        "#Histogram of Height\n",
        "athlete_df['Height'].hist()\n",
        "plt.xlabel('Height')\n",
        "plt.ylabel('Frequency')\n",
        "plt.title('Histogram of Athlete Height')\n",
        "plt.show()"
      ],
      "metadata": {
        "id": "lj5319nmKuwM"
      },
      "execution_count": null,
      "outputs": []
    },
    {
      "cell_type": "markdown",
      "source": [
        "### **Cleaning base on *'Weight'***"
      ],
      "metadata": {
        "id": "PLU_ujngPQbW"
      }
    },
    {
      "cell_type": "markdown",
      "source": [
        "Here I will repeat the levels of Age for **Weight**."
      ],
      "metadata": {
        "id": "LyJRy0cqPQbi"
      }
    },
    {
      "cell_type": "code",
      "source": [
        "#Histogram of Weight\n",
        "athlete_df['Weight'].hist()\n",
        "plt.xlabel('Weight')\n",
        "plt.ylabel('Frequency')\n",
        "plt.title('Histogram of Athlete Weight')\n",
        "plt.show()"
      ],
      "metadata": {
        "id": "j-L5uZ08PQbj"
      },
      "execution_count": null,
      "outputs": []
    },
    {
      "cell_type": "code",
      "source": [
        "# counting the number of null values of Weight column\n",
        "athlete_df['Weight'].isnull().sum()"
      ],
      "metadata": {
        "id": "BuVkwIKTPQbk"
      },
      "execution_count": null,
      "outputs": []
    },
    {
      "cell_type": "code",
      "source": [
        "# mean value of Weight column\n",
        "athlete_df['Weight'].mean()"
      ],
      "metadata": {
        "id": "eC4KATfVPQbk"
      },
      "execution_count": null,
      "outputs": []
    },
    {
      "cell_type": "code",
      "source": [
        "# filling null values of Weight column with median value\n",
        "athlete_df['Weight'].fillna(athlete_df['Weight'].mean(), inplace=True)"
      ],
      "metadata": {
        "id": "SS5fpV0lPQbk"
      },
      "execution_count": null,
      "outputs": []
    },
    {
      "cell_type": "code",
      "source": [
        "# counting the number of null values of Weight column after cleaning\n",
        "athlete_df['Weight'].isnull().sum()"
      ],
      "metadata": {
        "id": "gM6HmbV7PQbl"
      },
      "execution_count": null,
      "outputs": []
    },
    {
      "cell_type": "code",
      "source": [
        "#Histogram of Weight\n",
        "athlete_df['Weight'].hist()\n",
        "plt.xlabel('Weight')\n",
        "plt.ylabel('Frequency')\n",
        "plt.title('Histogram of Athlete Weight')\n",
        "plt.show()"
      ],
      "metadata": {
        "id": "KWaozm5GPQbl"
      },
      "execution_count": null,
      "outputs": []
    },
    {
      "cell_type": "code",
      "source": [
        "# counting the number of null values of dataset\n",
        "print(athlete_df.isnull().sum())"
      ],
      "metadata": {
        "id": "eo8V42-TQAXm"
      },
      "execution_count": null,
      "outputs": []
    },
    {
      "cell_type": "code",
      "source": [
        "athlete_df.info()"
      ],
      "metadata": {
        "id": "BhLlGD3i9dam"
      },
      "execution_count": null,
      "outputs": []
    },
    {
      "cell_type": "markdown",
      "source": [
        "Now this dataset is clear, without any null cells, and we can do analysis on it."
      ],
      "metadata": {
        "id": "GDowGUk13OdY"
      }
    },
    {
      "cell_type": "markdown",
      "source": [
        "# **Exploration on clean dataset**"
      ],
      "metadata": {
        "id": "XSGCzTfu4oZJ"
      }
    },
    {
      "cell_type": "markdown",
      "source": [
        "Now I explore the dataset again that I cleaned."
      ],
      "metadata": {
        "id": "dVjLxl1UOuOH"
      }
    },
    {
      "cell_type": "code",
      "source": [
        "# returning the number of rows and columns in athletes dataset that cleaning\n",
        "athlete_df.shape"
      ],
      "metadata": {
        "id": "KFb4t18pPIuN"
      },
      "execution_count": null,
      "outputs": []
    },
    {
      "cell_type": "code",
      "source": [
        "# returning first n rows of athletes dataset\n",
        "athlete_df.head(4)"
      ],
      "metadata": {
        "id": "KKZn0wUBVe_I"
      },
      "execution_count": null,
      "outputs": []
    },
    {
      "cell_type": "code",
      "source": [
        "# returning last n rows of athletes dataset\n",
        "athlete_df.tail(3)"
      ],
      "metadata": {
        "id": "ZeXeCpIPEWua"
      },
      "execution_count": null,
      "outputs": []
    },
    {
      "cell_type": "code",
      "source": [
        "# getting information about each column counts and datatype in athlete dataframe\n",
        "athlete_df.info()"
      ],
      "metadata": {
        "id": "yIJbU58LEb1b"
      },
      "execution_count": null,
      "outputs": []
    },
    {
      "cell_type": "code",
      "source": [
        "# getting information like min,max and mean about numeric columns in athlete dataframe\n",
        "athlete_df.describe()"
      ],
      "metadata": {
        "id": "ND-yv3n3EfWT"
      },
      "execution_count": null,
      "outputs": []
    },
    {
      "cell_type": "markdown",
      "source": [
        "This is a pandas dataset method used to compute pair correlation of columns, excluding null values. <br> It computes the correlation matrix for the numerical columns in the DataFrame so it shows just **Age**, **Height**, **Weight**, **Year**, **Medal**."
      ],
      "metadata": {
        "id": "j0IDF6fyQZqQ"
      }
    },
    {
      "cell_type": "code",
      "source": [
        "# finding correlation between different feaures\n",
        "athlete_df.corr()"
      ],
      "metadata": {
        "id": "izPLu90SE2NH"
      },
      "execution_count": null,
      "outputs": []
    },
    {
      "cell_type": "markdown",
      "source": [
        "### **Explore about Medal**"
      ],
      "metadata": {
        "id": "RzxeHZ5DT3oQ"
      }
    },
    {
      "cell_type": "markdown",
      "source": [
        "I want to explore about **Non Medal**, we filled the null cell for medal with 0 so will calculate it in dataset."
      ],
      "metadata": {
        "id": "OvT4yqCpZskw"
      }
    },
    {
      "cell_type": "code",
      "source": [
        "# number of gold medals\n",
        "athlete_df['Medal'].value_counts()[0]"
      ],
      "metadata": {
        "id": "ZWImqdEvZo1h"
      },
      "execution_count": null,
      "outputs": []
    },
    {
      "cell_type": "markdown",
      "source": [
        "I want to explore about **Gold Medal**, we filled the gold medal with 1 so will calculate it in dataset."
      ],
      "metadata": {
        "id": "a7px-SsYUXD_"
      }
    },
    {
      "cell_type": "code",
      "source": [
        "# number of gold medals\n",
        "athlete_df['Medal'].value_counts()[1]"
      ],
      "metadata": {
        "id": "BNa6iD_2UFgG"
      },
      "execution_count": null,
      "outputs": []
    },
    {
      "cell_type": "markdown",
      "source": [
        "I want to explore about **Silver Medal**, we filled the silver medal with 2 so will calculate it in dataset."
      ],
      "metadata": {
        "id": "fTZ01HqbVfMF"
      }
    },
    {
      "cell_type": "code",
      "source": [
        "# number of silver medals\n",
        "athlete_df['Medal'].value_counts()[2]"
      ],
      "metadata": {
        "id": "INUaT_bqVrnk"
      },
      "execution_count": null,
      "outputs": []
    },
    {
      "cell_type": "markdown",
      "source": [
        "I want to explore about **Bronze Medal**, we filled the bronze medal with 3 so will calculate it in dataset."
      ],
      "metadata": {
        "id": "8_0iPEL9V5Ka"
      }
    },
    {
      "cell_type": "code",
      "source": [
        "# number of Bronze medals\n",
        "athlete_df['Medal'].value_counts()[3]"
      ],
      "metadata": {
        "id": "yJDaU1jvV04b"
      },
      "execution_count": null,
      "outputs": []
    },
    {
      "cell_type": "markdown",
      "source": [
        "Sum of all type of medals. <br> I save the data that has medal (Gold, Silver, Bronze) in **Medals** data to use it in the future."
      ],
      "metadata": {
        "id": "H_CzCQdIZTU7"
      }
    },
    {
      "cell_type": "code",
      "source": [
        "# number of all medals\n",
        "Medals = athlete_df.loc[athlete_df['Medal'] != 0 ]\n",
        "Medals.shape[0]"
      ],
      "metadata": {
        "id": "ONcfI07KX2vO"
      },
      "execution_count": null,
      "outputs": []
    },
    {
      "cell_type": "markdown",
      "source": [
        "Display the list of the first and last countries based on the number of their medals so I should use **Medals** data"
      ],
      "metadata": {
        "id": "DaHmvQrgdyBr"
      }
    },
    {
      "cell_type": "code",
      "source": [
        "# top 5 countries with medals\n",
        "Medals.Country.value_counts().head(5)"
      ],
      "metadata": {
        "id": "I4h7LDJsdbpH"
      },
      "execution_count": null,
      "outputs": []
    },
    {
      "cell_type": "code",
      "source": [
        "# last 5 countries with medals\n",
        "Medals.Country.value_counts().tail(5)"
      ],
      "metadata": {
        "id": "22Mp88R5duN_"
      },
      "execution_count": null,
      "outputs": []
    },
    {
      "cell_type": "markdown",
      "source": [
        "I want to show the sports that has medal separately based on their type so I should use **Medals** dataset"
      ],
      "metadata": {
        "id": "flKOOWTLESzP"
      }
    },
    {
      "cell_type": "code",
      "source": [
        "# top 20 sports with medals\n",
        "Medals.Sport.value_counts().head(20)"
      ],
      "metadata": {
        "id": "5epx5B256Pgc"
      },
      "execution_count": null,
      "outputs": []
    },
    {
      "cell_type": "code",
      "source": [
        "# last 20 sports with medals\n",
        "Medals.Sport.value_counts().tail(20)"
      ],
      "metadata": {
        "id": "gp3JvAqp6YeX"
      },
      "execution_count": null,
      "outputs": []
    },
    {
      "cell_type": "markdown",
      "source": [
        "Now I want to explore in medal base on **gold** type so I save it in **GoldMedal** and use it in future detect. <br> At the first I list the first and last 5 countries that receive gold medal:"
      ],
      "metadata": {
        "id": "l3UGhG2osOkV"
      }
    },
    {
      "cell_type": "code",
      "source": [
        "# top 5 countries with gold medals\n",
        "GoldMedal = athlete_df.loc[athlete_df['Medal'] == 1]\n",
        "GoldMedal.Country.value_counts().head(5)"
      ],
      "metadata": {
        "id": "5BkDkK0qsWA5"
      },
      "execution_count": null,
      "outputs": []
    },
    {
      "cell_type": "code",
      "source": [
        "# last 5 countries with gold medals\n",
        "GoldMedal.Country.value_counts().tail(5)"
      ],
      "metadata": {
        "id": "lzUrRAkY5wfn"
      },
      "execution_count": null,
      "outputs": []
    },
    {
      "cell_type": "markdown",
      "source": [
        "I want to show the sports that has gold medal separately based on their type so I use **GoldMedal** dataset"
      ],
      "metadata": {
        "id": "RIV_3OLrFAZC"
      }
    },
    {
      "cell_type": "code",
      "source": [
        "# top 20 sports with gold medals\n",
        "GoldMedal.Sport.value_counts().head(20)"
      ],
      "metadata": {
        "id": "T_wKqrLNFJEP"
      },
      "execution_count": null,
      "outputs": []
    },
    {
      "cell_type": "code",
      "source": [
        "# last 20 sports with gold medals\n",
        "GoldMedal.Sport.value_counts().tail(20)"
      ],
      "metadata": {
        "id": "ppgWegRqFSYp"
      },
      "execution_count": null,
      "outputs": []
    },
    {
      "cell_type": "markdown",
      "source": [
        "### **Explore about Woman Athlete**"
      ],
      "metadata": {
        "id": "Rvm9R7fmaimp"
      }
    },
    {
      "cell_type": "markdown",
      "source": [
        "Count the womans that participate in Olympic in 10 first countries:"
      ],
      "metadata": {
        "id": "R0J2DsA7c-Bn"
      }
    },
    {
      "cell_type": "code",
      "source": [
        "# number of Womans\n",
        "athlete_df['Sex'].value_counts()['F']"
      ],
      "metadata": {
        "id": "zrRFAtVoR2S5"
      },
      "execution_count": null,
      "outputs": []
    },
    {
      "cell_type": "markdown",
      "source": [
        "Now I should put the woman athletes in a dataset (**WomanAthlete**) and use it and show the 10 top country:"
      ],
      "metadata": {
        "id": "QpGACKWaSIAJ"
      }
    },
    {
      "cell_type": "code",
      "source": [
        "# number of woman athlete by country / top 10\n",
        "WomanAthlete = athlete_df.loc[(athlete_df['Sex'] == 'F')]\n",
        "\n",
        "WomanAthlete.Country.value_counts().head(10)"
      ],
      "metadata": {
        "id": "33F6--IiaP_r"
      },
      "execution_count": null,
      "outputs": []
    },
    {
      "cell_type": "code",
      "source": [
        "# number of woman athlete by country / last 10\n",
        "WomanAthlete.Country.value_counts().tail(10)"
      ],
      "metadata": {
        "id": "MjxKGeNwbIIY"
      },
      "execution_count": null,
      "outputs": []
    },
    {
      "cell_type": "markdown",
      "source": [
        "Now I want to explore in woman who win medal so calculate it and put it in a dataset (**WomanMedalist**):"
      ],
      "metadata": {
        "id": "B3R_00NxS1ni"
      }
    },
    {
      "cell_type": "code",
      "source": [
        "# number of woman medalists\n",
        "WomanMedalist = WomanAthlete.loc[WomanAthlete['Medal'] != 0]\n",
        "WomanMedalist.shape[0]"
      ],
      "metadata": {
        "id": "ITNe4yS7TAdi"
      },
      "execution_count": null,
      "outputs": []
    },
    {
      "cell_type": "code",
      "source": [
        "# number of woman medalists by country / top 5\n",
        "WomanMedalist.Country.value_counts().head(5)"
      ],
      "metadata": {
        "id": "o-J_K4dFUHhS"
      },
      "execution_count": null,
      "outputs": []
    },
    {
      "cell_type": "code",
      "source": [
        "# number of woman medalists by country / last 5\n",
        "WomanMedalist.Country.value_counts().tail(5)"
      ],
      "metadata": {
        "id": "CAFm0XVxUscu"
      },
      "execution_count": null,
      "outputs": []
    },
    {
      "cell_type": "code",
      "source": [
        "# number of female medalists by sport / top 5\n",
        "WomanMedalist.Sport.value_counts().head(5)"
      ],
      "metadata": {
        "id": "6eRQOYZJU1SP"
      },
      "execution_count": null,
      "outputs": []
    },
    {
      "cell_type": "markdown",
      "source": [
        "#**Visualization**"
      ],
      "metadata": {
        "id": "MMo-v5bLU9MB"
      }
    },
    {
      "cell_type": "code",
      "source": [
        "# correlation graph\n",
        "plt.figure(figsize=(6,5))\n",
        "sns.heatmap(athlete_df.corr(), annot=True)\n",
        "plt.title('correlation', fontweight='bold', fontsize=14)\n",
        "plt.show()"
      ],
      "metadata": {
        "id": "trTTX5pdVA_J"
      },
      "execution_count": null,
      "outputs": []
    },
    {
      "cell_type": "markdown",
      "source": [
        "Pie chart for gender of dataset:"
      ],
      "metadata": {
        "id": "hm_hMqQSVsNm"
      }
    },
    {
      "cell_type": "code",
      "source": [
        "# athletes by sex\n",
        "labels = ['Male', 'Female']\n",
        "plt.figure(figsize=(10,6))\n",
        "plt.pie(athlete_df['Sex'].value_counts(), labels=labels, autopct='%.2f%%')\n",
        "plt.title('Percentage of athletes by sex', fontweight='bold', fontsize=14)\n",
        "plt.legend()\n",
        "plt.show()"
      ],
      "metadata": {
        "id": "DUcJK1OmVadf"
      },
      "execution_count": null,
      "outputs": []
    },
    {
      "cell_type": "markdown",
      "source": [
        "The athletes over 50 years:"
      ],
      "metadata": {
        "id": "q0fOFtAUg5fd"
      }
    },
    {
      "cell_type": "code",
      "source": [
        "# athletes over 50 base on sport\n",
        "plt.figure(figsize=(10, 5))\n",
        "plt.tight_layout()\n",
        "sns.countplot(x=GoldMedal['Sport'][GoldMedal['Age'] > 50],  palette='muted')\n",
        "plt.title('Gold Medals for Athletes Over 50')\n",
        "plt.xticks(rotation = 50)\n",
        "plt.show()"
      ],
      "metadata": {
        "id": "MXXBE1OadQPK"
      },
      "execution_count": null,
      "outputs": []
    },
    {
      "cell_type": "code",
      "source": [
        "# top 10 countries with medals\n",
        "TotalMedal = Medals.Country.value_counts().reset_index(name='Medal').head(10)\n",
        "ax = sns.catplot(x=\"index\", y=\"Medal\", data=TotalMedal, height=6, kind=\"bar\", palette='hsv')\n",
        "ax.set_xlabels('Countries', fontsize=12 )\n",
        "ax.set_ylabels('Number of Medals', fontsize=12)\n",
        "plt.title('Top 10 countries by number of medals', fontweight='bold', fontsize=14)\n",
        "plt.xticks(rotation = 45)\n",
        "plt.show()"
      ],
      "metadata": {
        "id": "xguZ0L4zWZUY"
      },
      "execution_count": null,
      "outputs": []
    },
    {
      "cell_type": "code",
      "source": [
        "# top 10 countries with Woman medalists\n",
        "WomanMedalistByCountry = WomanMedalist.Country.value_counts().reset_index(name='Medal').head(15)\n",
        "ax = sns.catplot(x='index', y='Medal', data=WomanMedalistByCountry, height=6, kind='bar', palette='Blues')\n",
        "ax.set_xlabels('Countries' , fontsize=12 )\n",
        "ax.set_ylabels('Number of Medals', fontsize=12)\n",
        "plt.title('Top 10 countries with female medalists', fontweight='bold', fontsize=14)\n",
        "plt.xticks(rotation = 45)\n",
        "plt.show()"
      ],
      "metadata": {
        "id": "9rLih_y6X2oc"
      },
      "execution_count": null,
      "outputs": []
    },
    {
      "cell_type": "code",
      "source": [
        "# athletes of Italy win gold medal came from Italy\n",
        "plt.figure(figsize=(10, 5))\n",
        "plt.tight_layout()\n",
        "sns.countplot(x=GoldMedal['Year'][GoldMedal['Country'] == 'Italy'],  palette='Greens')\n",
        "plt.title('Gold Medals for Athletes of Italy')\n",
        "plt.xticks(rotation = 50, fontsize=8)\n",
        "plt.show()"
      ],
      "metadata": {
        "id": "nnLoHGC3QEa8"
      },
      "execution_count": null,
      "outputs": []
    },
    {
      "cell_type": "code",
      "source": [
        "# Height of medalists\n",
        "plt.figure(figsize=(10,6))\n",
        "plt.plot(Medals['Height'].value_counts().sort_index())\n",
        "plt.xticks(np.arange(130, 230, step=5))\n",
        "plt.title('Height of medalists', fontweight='bold', fontsize=14)\n",
        "plt.xlabel('Height', fontsize=12)\n",
        "plt.show()"
      ],
      "metadata": {
        "id": "1hnMvAvjXSyg"
      },
      "execution_count": null,
      "outputs": []
    },
    {
      "cell_type": "markdown",
      "source": [
        "This code is using the seaborn library to create a scatter plot to visualize the relationship between two variables: age and height.<br>\n",
        "Each point represents an athlete's age and height, with points colored based on the sex of the athlete."
      ],
      "metadata": {
        "id": "3R-6eE6WX-wq"
      }
    },
    {
      "cell_type": "code",
      "source": [
        "# Create a scatter plot to visualize the relationship between age and height of athletes,\n",
        "sns.scatterplot(x='Age', y='Height', hue='Sex', data=athlete_df , palette='Blues')\n",
        "plt.title('Age vs. Height')"
      ],
      "metadata": {
        "id": "2gJRRHAVTGG0"
      },
      "execution_count": null,
      "outputs": []
    },
    {
      "cell_type": "code",
      "source": [
        "sns.pairplot(athlete_df,vars=['Sex','Age','Year','Medal'])"
      ],
      "metadata": {
        "id": "XWAA4RzZZp_S"
      },
      "execution_count": null,
      "outputs": []
    },
    {
      "cell_type": "markdown",
      "source": [
        "# **Modelling**"
      ],
      "metadata": {
        "id": "lp3CGKYBNbh5"
      }
    },
    {
      "cell_type": "markdown",
      "source": [
        "**Creating Training Set and Test Set for Models** <br>\n",
        "We need to extract a sub dataframe with the features and the correct label.<br>\n",
        "So I deleted some features and save in another dataset.\n",
        "\n",
        "\n",
        "\n",
        "\n",
        "\n",
        "So I change the data of object to integer. <br>\n",
        "I cheanged that an athlete is a male to 1 otherwise 0, same for season, summer is labeled as 1 and winter as 0.<br>\n",
        "The test set size is 20% of the whole dataset. <br>"
      ],
      "metadata": {
        "id": "gIRcgcKyPhMQ"
      }
    },
    {
      "cell_type": "code",
      "source": [
        "# defining function for changing string values to numeric values for better modelling\n",
        "def encode_df(dataframe):\n",
        "    le = LabelEncoder()\n",
        "    for column in dataframe.columns:\n",
        "        dataframe[column] = le.fit_transform(dataframe[column])\n",
        "    return dataframe"
      ],
      "metadata": {
        "id": "085hwwXaVtHF"
      },
      "execution_count": null,
      "outputs": []
    },
    {
      "cell_type": "code",
      "source": [
        "# removing extra features which do not affect prediction containing \"Event\"\n",
        "athlete_df2 = athlete_df.drop(['Name', 'Season','Country', 'Sport'], axis=1)\n",
        "\n",
        "# changing string values to numeric values\n",
        "encode_df(athlete_df2)"
      ],
      "metadata": {
        "id": "11PFxqVeRp7n"
      },
      "execution_count": null,
      "outputs": []
    },
    {
      "cell_type": "code",
      "source": [
        " #removing extra features which do not affect prediction without \"Event\" and \"Sport\"\n",
        "athlete_df3 = athlete_df.drop(['Name', 'Season','Country', 'Event', 'Sport'], axis=1)\n",
        "\n",
        "# changing string values to numeric values\n",
        "encode_df(athlete_df3)"
      ],
      "metadata": {
        "id": "vnc2dbxUTi23"
      },
      "execution_count": null,
      "outputs": []
    },
    {
      "cell_type": "markdown",
      "source": [
        "Call the library for machine learning:"
      ],
      "metadata": {
        "id": "ID92ZGZ9UAbN"
      }
    },
    {
      "cell_type": "code",
      "source": [
        "# importing required tools from sklearn library\n",
        "from sklearn.model_selection import train_test_split\n",
        "from sklearn.metrics import accuracy_score\n",
        "from sklearn.ensemble import RandomForestClassifier\n",
        "from sklearn.tree import DecisionTreeClassifier\n",
        "from sklearn.neighbors import KNeighborsClassifier"
      ],
      "metadata": {
        "id": "ymNEGHCNUEff"
      },
      "execution_count": null,
      "outputs": []
    },
    {
      "cell_type": "code",
      "source": [
        "# defining prediction base on medal achievements\n",
        "Y_medal = athlete_df2['Medal']\n",
        "X_medal = athlete_df2.drop(['Medal'], axis=1)\n",
        "\n",
        "Y_medal = athlete_df3['Medal']\n",
        "X_medal = athlete_df3.drop(['Medal'], axis=1)"
      ],
      "metadata": {
        "id": "AfEkwjLzUVkI"
      },
      "execution_count": null,
      "outputs": []
    },
    {
      "cell_type": "code",
      "source": [
        "# defining train and test set data\n",
        "X_train, X_test, Y_train, Y_test = train_test_split(X_medal, Y_medal, test_size=0.2, random_state=42)"
      ],
      "metadata": {
        "id": "6u-bhS9oWmTY"
      },
      "execution_count": null,
      "outputs": []
    },
    {
      "cell_type": "markdown",
      "source": [
        "### **Model 1 - Decision Tree**"
      ],
      "metadata": {
        "id": "ale0NwlsNiPQ"
      }
    },
    {
      "cell_type": "code",
      "source": [
        "# Call decision tree\n",
        "model_decisionTree = DecisionTreeClassifier()"
      ],
      "metadata": {
        "id": "lYpM-9rVXaVz"
      },
      "execution_count": null,
      "outputs": []
    },
    {
      "cell_type": "markdown",
      "source": [
        "**Training Set**"
      ],
      "metadata": {
        "id": "VzpgvaFyY3TJ"
      }
    },
    {
      "cell_type": "code",
      "source": [
        "# Train the dataset\n",
        "model_decisionTree = model_decisionTree.fit(X_train, Y_train)"
      ],
      "metadata": {
        "id": "DC2nxaIHYWGX"
      },
      "execution_count": null,
      "outputs": []
    },
    {
      "cell_type": "markdown",
      "source": [
        "**Testing set**"
      ],
      "metadata": {
        "id": "Uj0gIY_9ZDVJ"
      }
    },
    {
      "cell_type": "code",
      "source": [
        "# Test the dataset and print accuracy\n",
        "Y_predict = model_decisionTree.predict(X_test)\n",
        "ac_decisionTree = accuracy_score(Y_test, Y_predict)\n",
        "print(ac_decisionTree)"
      ],
      "metadata": {
        "id": "LtuiZNUrYck3"
      },
      "execution_count": null,
      "outputs": []
    },
    {
      "cell_type": "markdown",
      "source": [
        "### **Model 2 - KNeighborsClassifier**"
      ],
      "metadata": {
        "id": "QLrQCYD1aiFO"
      }
    },
    {
      "cell_type": "code",
      "source": [
        "# Call KNeighborsClassifier\n",
        "model_KNeighbor = KNeighborsClassifier()"
      ],
      "metadata": {
        "id": "UpqRHd6Qahnv"
      },
      "execution_count": null,
      "outputs": []
    },
    {
      "cell_type": "markdown",
      "source": [
        "**Training Set**"
      ],
      "metadata": {
        "id": "DexsYAWFa2Ri"
      }
    },
    {
      "cell_type": "code",
      "source": [
        "# Train the dataset\n",
        "model_KNeighbor = model_KNeighbor.fit(X_train, Y_train)"
      ],
      "metadata": {
        "id": "DJd_U8pya-L7"
      },
      "execution_count": null,
      "outputs": []
    },
    {
      "cell_type": "markdown",
      "source": [
        "**Testing set**"
      ],
      "metadata": {
        "id": "DQrKy2Bwa5q9"
      }
    },
    {
      "cell_type": "code",
      "source": [
        "# Test the dataset and print accuracy\n",
        "Y_predict = model_KNeighbor.predict(X_test)\n",
        "ac_KNeighborsClassifier = accuracy_score(Y_test, Y_predict)\n",
        "print(ac_KNeighborsClassifier)"
      ],
      "metadata": {
        "id": "yo7EWi2kbBhY"
      },
      "execution_count": null,
      "outputs": []
    },
    {
      "cell_type": "markdown",
      "source": [
        "### **Model 3 - RandomForestClassifier**"
      ],
      "metadata": {
        "id": "F_tzIGIXdgma"
      }
    },
    {
      "cell_type": "code",
      "source": [
        "# Call RandomForestClassifier\n",
        "model_RandomForest = RandomForestClassifier()"
      ],
      "metadata": {
        "id": "lFQ9RKD7dgmb"
      },
      "execution_count": null,
      "outputs": []
    },
    {
      "cell_type": "markdown",
      "source": [
        "**Training Set**"
      ],
      "metadata": {
        "id": "xnmnIHALdgmc"
      }
    },
    {
      "cell_type": "code",
      "source": [
        "# Train the dataset\n",
        "model_RandomForest = model_RandomForest.fit(X_train, Y_train)"
      ],
      "metadata": {
        "id": "-7TUPaqkdgmc"
      },
      "execution_count": null,
      "outputs": []
    },
    {
      "cell_type": "markdown",
      "source": [
        "**Testing set**"
      ],
      "metadata": {
        "id": "nsjMpwzxdgmd"
      }
    },
    {
      "cell_type": "code",
      "source": [
        "# Test the dataset and print accuracy\n",
        "Y_predict = model_RandomForest.predict(X_test)\n",
        "ac_RandomForestClassifier = accuracy_score(Y_test, Y_predict)\n",
        "print(ac_RandomForestClassifier)"
      ],
      "metadata": {
        "id": "5s6PY6b7dgmd"
      },
      "execution_count": null,
      "outputs": []
    },
    {
      "cell_type": "markdown",
      "source": [
        "### **Compare different Models**"
      ],
      "metadata": {
        "id": "LckGm7-HlZ9s"
      }
    },
    {
      "cell_type": "code",
      "source": [
        "print('accuraaccuracy of Decision Tree model:', ac_decisionTree)\n",
        "print('accuraaccuracy of k-nearest neighbors model:', ac_KNeighborsClassifier)\n",
        "print('accuraaccuracy of Random Forest Classifier model:', ac_RandomForestClassifier)"
      ],
      "metadata": {
        "id": "_tjk8emglhB5"
      },
      "execution_count": null,
      "outputs": []
    }
  ]
}